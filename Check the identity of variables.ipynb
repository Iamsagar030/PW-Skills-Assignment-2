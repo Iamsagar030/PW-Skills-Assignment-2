{
 "cells": [
  {
   "cell_type": "code",
   "execution_count": 1,
   "metadata": {},
   "outputs": [
    {
     "name": "stdout",
     "output_type": "stream",
     "text": [
      "x is y: False\n",
      "x is z: True\n",
      "x is not y: True\n",
      "x is not z: False\n"
     ]
    }
   ],
   "source": [
    "# Define two variables\n",
    "x = [1, 2, 3]\n",
    "y = [1, 2, 3]\n",
    "z = x\n",
    "\n",
    "# Check identity using 'is' operator\n",
    "print(\"x is y:\", x is y)\n",
    "print(\"x is z:\", x is z)\n",
    "\n",
    "# Check identity using 'is not' operator\n",
    "print(\"x is not y:\", x is not y)\n",
    "print(\"x is not z:\", x is not z)\n"
   ]
  }
 ],
 "metadata": {
  "kernelspec": {
   "display_name": "Python 3",
   "language": "python",
   "name": "python3"
  },
  "language_info": {
   "codemirror_mode": {
    "name": "ipython",
    "version": 3
   },
   "file_extension": ".py",
   "mimetype": "text/x-python",
   "name": "python",
   "nbconvert_exporter": "python",
   "pygments_lexer": "ipython3",
   "version": "3.11.8"
  }
 },
 "nbformat": 4,
 "nbformat_minor": 2
}
