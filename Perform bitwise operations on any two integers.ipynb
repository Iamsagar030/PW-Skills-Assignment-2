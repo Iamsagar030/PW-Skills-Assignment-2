{
 "cells": [
  {
   "cell_type": "code",
   "execution_count": 1,
   "metadata": {},
   "outputs": [
    {
     "name": "stdout",
     "output_type": "stream",
     "text": [
      "Bitwise AND: 2\n",
      "Bitwise OR: 14\n",
      "Bitwise XOR: 12\n",
      "Bitwise NOT on num1: -11\n",
      "Left shift on num1: 20\n",
      "Right shift on num2: 3\n"
     ]
    }
   ],
   "source": [
    "# Define two integers\n",
    "num1 = 10    # Binary: 1010\n",
    "num2 = 6     # Binary: 0110\n",
    "\n",
    "# Perform bitwise AND\n",
    "bitwise_and = num1 & num2\n",
    "print(\"Bitwise AND:\", bitwise_and)\n",
    "\n",
    "# Perform bitwise OR\n",
    "bitwise_or = num1 | num2\n",
    "print(\"Bitwise OR:\", bitwise_or)\n",
    "\n",
    "# Perform bitwise XOR\n",
    "bitwise_xor = num1 ^ num2\n",
    "print(\"Bitwise XOR:\", bitwise_xor)\n",
    "\n",
    "# Perform bitwise NOT on num1\n",
    "bitwise_not_num1 = ~num1\n",
    "print(\"Bitwise NOT on num1:\", bitwise_not_num1)\n",
    "\n",
    "# Perform left shift on num1\n",
    "left_shift_num1 = num1 << 1\n",
    "print(\"Left shift on num1:\", left_shift_num1)\n",
    "\n",
    "# Perform right shift on num2\n",
    "right_shift_num2 = num2 >> 1\n",
    "print(\"Right shift on num2:\", right_shift_num2)\n"
   ]
  }
 ],
 "metadata": {
  "kernelspec": {
   "display_name": "Python 3",
   "language": "python",
   "name": "python3"
  },
  "language_info": {
   "codemirror_mode": {
    "name": "ipython",
    "version": 3
   },
   "file_extension": ".py",
   "mimetype": "text/x-python",
   "name": "python",
   "nbconvert_exporter": "python",
   "pygments_lexer": "ipython3",
   "version": "3.11.8"
  }
 },
 "nbformat": 4,
 "nbformat_minor": 2
}
