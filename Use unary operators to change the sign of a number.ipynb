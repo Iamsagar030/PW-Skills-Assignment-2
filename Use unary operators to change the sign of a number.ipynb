{
 "cells": [
  {
   "cell_type": "code",
   "execution_count": 1,
   "metadata": {},
   "outputs": [
    {
     "name": "stdout",
     "output_type": "stream",
     "text": [
      "Number after changing the sign: -10\n"
     ]
    }
   ],
   "source": [
    "# Define a number\n",
    "number = 10\n",
    "\n",
    "# Change the sign using unary operator\n",
    "number = -number\n",
    "\n",
    "print(\"Number after changing the sign:\", number)\n"
   ]
  }
 ],
 "metadata": {
  "kernelspec": {
   "display_name": "Python 3",
   "language": "python",
   "name": "python3"
  },
  "language_info": {
   "codemirror_mode": {
    "name": "ipython",
    "version": 3
   },
   "file_extension": ".py",
   "mimetype": "text/x-python",
   "name": "python",
   "nbconvert_exporter": "python",
   "pygments_lexer": "ipython3",
   "version": "3.11.8"
  }
 },
 "nbformat": 4,
 "nbformat_minor": 2
}
