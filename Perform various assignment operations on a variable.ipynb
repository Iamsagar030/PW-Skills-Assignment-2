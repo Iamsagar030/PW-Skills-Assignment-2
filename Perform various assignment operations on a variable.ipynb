{
 "cells": [
  {
   "cell_type": "code",
   "execution_count": 1,
   "metadata": {},
   "outputs": [
    {
     "name": "stdout",
     "output_type": "stream",
     "text": [
      "After addition: 15\n",
      "After subtraction: 12\n",
      "After multiplication: 24\n",
      "After division: 6.0\n",
      "After exponentiation: 216.0\n",
      "After modulo: 1.0\n"
     ]
    }
   ],
   "source": [
    "# Initial value of the variable\n",
    "x = 10\n",
    "\n",
    "# Addition assignment\n",
    "x += 5  # Equivalent to x = x + 5\n",
    "print(\"After addition:\", x)\n",
    "\n",
    "# Subtraction assignment\n",
    "x -= 3  # Equivalent to x = x - 3\n",
    "print(\"After subtraction:\", x)\n",
    "\n",
    "# Multiplication assignment\n",
    "x *= 2  # Equivalent to x = x * 2\n",
    "print(\"After multiplication:\", x)\n",
    "\n",
    "# Division assignment\n",
    "x /= 4  # Equivalent to x = x / 4\n",
    "print(\"After division:\", x)\n",
    "\n",
    "# Exponentiation assignment\n",
    "x **= 3  # Equivalent to x = x ** 3\n",
    "print(\"After exponentiation:\", x)\n",
    "\n",
    "# Modulo assignment\n",
    "x %= 5  # Equivalent to x = x % 5\n",
    "print(\"After modulo:\", x)\n"
   ]
  }
 ],
 "metadata": {
  "kernelspec": {
   "display_name": "Python 3",
   "language": "python",
   "name": "python3"
  },
  "language_info": {
   "codemirror_mode": {
    "name": "ipython",
    "version": 3
   },
   "file_extension": ".py",
   "mimetype": "text/x-python",
   "name": "python",
   "nbconvert_exporter": "python",
   "pygments_lexer": "ipython3",
   "version": "3.11.8"
  }
 },
 "nbformat": 4,
 "nbformat_minor": 2
}
