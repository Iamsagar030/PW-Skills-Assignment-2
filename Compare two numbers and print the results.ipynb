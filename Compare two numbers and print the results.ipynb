{
 "cells": [
  {
   "cell_type": "code",
   "execution_count": 1,
   "metadata": {},
   "outputs": [
    {
     "name": "stdout",
     "output_type": "stream",
     "text": [
      "Comparing 10 and 5\n",
      "num1 < num2: False\n",
      "num1 > num2: True\n",
      "num1 == num2: False\n",
      "num1 != num2: True\n",
      "num1 <= num2: False\n",
      "num1 >= num2: True\n"
     ]
    }
   ],
   "source": [
    "# Define two numbers\n",
    "num1 = 10\n",
    "num2 = 5\n",
    "\n",
    "# Compare and print the results\n",
    "print(\"Comparing\", num1, \"and\", num2)\n",
    "print(\"num1 < num2:\", num1 < num2)\n",
    "print(\"num1 > num2:\", num1 > num2)\n",
    "print(\"num1 == num2:\", num1 == num2)\n",
    "print(\"num1 != num2:\", num1 != num2)\n",
    "print(\"num1 <= num2:\", num1 <= num2)\n",
    "print(\"num1 >= num2:\", num1 >= num2)\n"
   ]
  }
 ],
 "metadata": {
  "kernelspec": {
   "display_name": "Python 3",
   "language": "python",
   "name": "python3"
  },
  "language_info": {
   "codemirror_mode": {
    "name": "ipython",
    "version": 3
   },
   "file_extension": ".py",
   "mimetype": "text/x-python",
   "name": "python",
   "nbconvert_exporter": "python",
   "pygments_lexer": "ipython3",
   "version": "3.11.8"
  }
 },
 "nbformat": 4,
 "nbformat_minor": 2
}
