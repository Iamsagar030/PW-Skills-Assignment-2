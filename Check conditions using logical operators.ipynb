{
 "cells": [
  {
   "cell_type": "code",
   "execution_count": 2,
   "metadata": {},
   "outputs": [
    {
     "name": "stdout",
     "output_type": "stream",
     "text": [
      "num1 is between num2 and num3\n",
      "num1 is not equal to zero\n"
     ]
    }
   ],
   "source": [
    "# Define two numbers\n",
    "num1 = 10\n",
    "num2 = 5\n",
    "num3 = 20\n",
    "\n",
    "# Check conditions using logical operators\n",
    "# Using 'and' operator\n",
    "if num1 > num2 and num1 < num3:\n",
    "    print(\"num1 is between num2 and num3\")\n",
    "\n",
    "# Using 'or' operator\n",
    "if num1 == num2 or num1 == num3:\n",
    "    print(\"num1 is equal to either num2 or num3\")\n",
    "\n",
    "# Using 'not' operator\n",
    "if not (num1 == 0):\n",
    "    print(\"num1 is not equal to zero\")\n"
   ]
  }
 ],
 "metadata": {
  "kernelspec": {
   "display_name": "Python 3",
   "language": "python",
   "name": "python3"
  },
  "language_info": {
   "codemirror_mode": {
    "name": "ipython",
    "version": 3
   },
   "file_extension": ".py",
   "mimetype": "text/x-python",
   "name": "python",
   "nbconvert_exporter": "python",
   "pygments_lexer": "ipython3",
   "version": "3.11.8"
  }
 },
 "nbformat": 4,
 "nbformat_minor": 2
}
